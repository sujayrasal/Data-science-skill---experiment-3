{
  "nbformat": 4,
  "nbformat_minor": 0,
  "metadata": {
    "colab": {
      "provenance": []
    },
    "kernelspec": {
      "name": "python3",
      "display_name": "Python 3"
    },
    "language_info": {
      "name": "python"
    }
  },
  "cells": [
    {
      "cell_type": "markdown",
      "source": [
        "LABEL ENCODING"
      ],
      "metadata": {
        "id": "0S4w4cI6IwnQ"
      }
    },
    {
      "cell_type": "code",
      "execution_count": 1,
      "metadata": {
        "colab": {
          "base_uri": "https://localhost:8080/"
        },
        "id": "fv4fGtzFauYR",
        "outputId": "620bf2e9-336f-4a8c-dd0e-9ee11d61a518"
      },
      "outputs": [
        {
          "output_type": "stream",
          "name": "stdout",
          "text": [
            "   Color  Color_Encoded\n",
            "0    Red              2\n",
            "1   Blue              0\n",
            "2  Green              1\n",
            "3   Blue              0\n",
            "4    Red              2\n"
          ]
        }
      ],
      "source": [
        "import pandas as pd\n",
        "from sklearn.preprocessing import LabelEncoder\n",
        "\n",
        "data = {'Color': ['Red', 'Blue', 'Green', 'Blue', 'Red']}\n",
        "df = pd.DataFrame(data)\n",
        "\n",
        "encoder = LabelEncoder()\n",
        "df['Color_Encoded'] = encoder.fit_transform(df['Color'])\n",
        "\n",
        "print(df)\n"
      ]
    },
    {
      "cell_type": "markdown",
      "source": [
        "ONE HOT ENCODING"
      ],
      "metadata": {
        "id": "Vz5qrSENI0Do"
      }
    },
    {
      "cell_type": "code",
      "source": [
        "df_one_hot = pd.get_dummies(df, columns=['Color'])\n",
        "print(df_one_hot)\n"
      ],
      "metadata": {
        "colab": {
          "base_uri": "https://localhost:8080/"
        },
        "id": "DXOxGJFdcEAz",
        "outputId": "2519633b-1f53-4e06-f06f-e53d06e233fa"
      },
      "execution_count": 2,
      "outputs": [
        {
          "output_type": "stream",
          "name": "stdout",
          "text": [
            "   Color_Encoded  Color_Blue  Color_Green  Color_Red\n",
            "0              2       False        False       True\n",
            "1              0        True        False      False\n",
            "2              1       False         True      False\n",
            "3              0        True        False      False\n",
            "4              2       False        False       True\n"
          ]
        }
      ]
    },
    {
      "cell_type": "markdown",
      "source": [
        "ORDINAL ENCODING"
      ],
      "metadata": {
        "id": "W4GXyc4mJAhB"
      }
    },
    {
      "cell_type": "code",
      "source": [
        "from sklearn.preprocessing import OrdinalEncoder\n",
        "\n",
        "data = {'Size': ['Small', 'Medium', 'Large', 'Medium', 'Small']}\n",
        "df = pd.DataFrame(data)\n",
        "\n",
        "ordinal_encoder = OrdinalEncoder(categories=[['Small', 'Medium', 'Large']])\n",
        "df['Size_Encoded'] = ordinal_encoder.fit_transform(df[['Size']])\n",
        "\n",
        "print(df)\n"
      ],
      "metadata": {
        "colab": {
          "base_uri": "https://localhost:8080/"
        },
        "id": "DemPjMx-c1qo",
        "outputId": "78b142ec-632e-4e75-b37a-82cd4492ead2"
      },
      "execution_count": 3,
      "outputs": [
        {
          "output_type": "stream",
          "name": "stdout",
          "text": [
            "     Size  Size_Encoded\n",
            "0   Small           0.0\n",
            "1  Medium           1.0\n",
            "2   Large           2.0\n",
            "3  Medium           1.0\n",
            "4   Small           0.0\n"
          ]
        }
      ]
    },
    {
      "cell_type": "markdown",
      "source": [
        "TARGET ENCODING"
      ],
      "metadata": {
        "id": "iKPrGm2TJHJ2"
      }
    },
    {
      "cell_type": "code",
      "source": [
        "data = {'City': ['NY', 'LA', 'NY', 'SF', 'LA', 'SF'],\n",
        "        'Price': [500, 700, 550, 800, 720, 820]}\n",
        "df = pd.DataFrame(data)\n",
        "\n",
        "target_mean = df.groupby('City')['Price'].mean()\n",
        "df['City_Encoded'] = df['City'].map(target_mean)\n",
        "\n",
        "print(df)\n"
      ],
      "metadata": {
        "colab": {
          "base_uri": "https://localhost:8080/"
        },
        "id": "iBuUIZChc5zf",
        "outputId": "f5bc27c2-cbbc-4a4b-e2e3-36abf65b5641"
      },
      "execution_count": 4,
      "outputs": [
        {
          "output_type": "stream",
          "name": "stdout",
          "text": [
            "  City  Price  City_Encoded\n",
            "0   NY    500         525.0\n",
            "1   LA    700         710.0\n",
            "2   NY    550         525.0\n",
            "3   SF    800         810.0\n",
            "4   LA    720         710.0\n",
            "5   SF    820         810.0\n"
          ]
        }
      ]
    },
    {
      "cell_type": "code",
      "source": [
        "import pandas as pd\n",
        "!pip install category_encoders\n",
        "import category_encoders as ce\n",
        "\n",
        "data = {'Category': ['A', 'B', 'C', 'D', 'E']}\n",
        "df = pd.DataFrame(data)\n",
        "\n",
        "encoder = ce.BinaryEncoder(cols=['Category'])\n",
        "df_encoded = encoder.fit_transform(df)\n",
        "\n",
        "print(\"Original Data:\\n\", df)\n",
        "print(\"\\nBinary Encoded Data:\\n\", df_encoded)\n"
      ],
      "metadata": {
        "colab": {
          "base_uri": "https://localhost:8080/"
        },
        "id": "G8hivdszdAtq",
        "outputId": "447616ea-627c-4472-cf12-551580b9d667"
      },
      "execution_count": 12,
      "outputs": [
        {
          "output_type": "stream",
          "name": "stdout",
          "text": [
            "Requirement already satisfied: category_encoders in /usr/local/lib/python3.11/dist-packages (2.8.0)\n",
            "Requirement already satisfied: numpy>=1.14.0 in /usr/local/lib/python3.11/dist-packages (from category_encoders) (1.26.4)\n",
            "Requirement already satisfied: pandas>=1.0.5 in /usr/local/lib/python3.11/dist-packages (from category_encoders) (2.2.2)\n",
            "Requirement already satisfied: patsy>=0.5.1 in /usr/local/lib/python3.11/dist-packages (from category_encoders) (1.0.1)\n",
            "Requirement already satisfied: scikit-learn>=1.6.0 in /usr/local/lib/python3.11/dist-packages (from category_encoders) (1.6.1)\n",
            "Requirement already satisfied: scipy>=1.0.0 in /usr/local/lib/python3.11/dist-packages (from category_encoders) (1.13.1)\n",
            "Requirement already satisfied: statsmodels>=0.9.0 in /usr/local/lib/python3.11/dist-packages (from category_encoders) (0.14.4)\n",
            "Requirement already satisfied: python-dateutil>=2.8.2 in /usr/local/lib/python3.11/dist-packages (from pandas>=1.0.5->category_encoders) (2.8.2)\n",
            "Requirement already satisfied: pytz>=2020.1 in /usr/local/lib/python3.11/dist-packages (from pandas>=1.0.5->category_encoders) (2025.1)\n",
            "Requirement already satisfied: tzdata>=2022.7 in /usr/local/lib/python3.11/dist-packages (from pandas>=1.0.5->category_encoders) (2025.1)\n",
            "Requirement already satisfied: joblib>=1.2.0 in /usr/local/lib/python3.11/dist-packages (from scikit-learn>=1.6.0->category_encoders) (1.4.2)\n",
            "Requirement already satisfied: threadpoolctl>=3.1.0 in /usr/local/lib/python3.11/dist-packages (from scikit-learn>=1.6.0->category_encoders) (3.5.0)\n",
            "Requirement already satisfied: packaging>=21.3 in /usr/local/lib/python3.11/dist-packages (from statsmodels>=0.9.0->category_encoders) (24.2)\n",
            "Requirement already satisfied: six>=1.5 in /usr/local/lib/python3.11/dist-packages (from python-dateutil>=2.8.2->pandas>=1.0.5->category_encoders) (1.17.0)\n",
            "Original Data:\n",
            "   Category\n",
            "0        A\n",
            "1        B\n",
            "2        C\n",
            "3        D\n",
            "4        E\n",
            "\n",
            "Binary Encoded Data:\n",
            "    Category_0  Category_1  Category_2\n",
            "0           0           0           1\n",
            "1           0           1           0\n",
            "2           0           1           1\n",
            "3           1           0           0\n",
            "4           1           0           1\n"
          ]
        }
      ]
    }
  ]
}